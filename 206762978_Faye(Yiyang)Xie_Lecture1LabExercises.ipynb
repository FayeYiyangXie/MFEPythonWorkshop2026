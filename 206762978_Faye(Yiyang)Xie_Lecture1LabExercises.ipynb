{
 "cells": [
  {
   "cell_type": "markdown",
   "id": "c2937919-0df3-46fb-925d-24fd2d859589",
   "metadata": {},
   "source": [
    "# Lecture1LabExercise"
   ]
  },
  {
   "cell_type": "markdown",
   "id": "d2221a26-f9a1-4cfa-a284-179a91d8e01f",
   "metadata": {},
   "source": [
    "## Self-Assessment\n",
    "* I did all the required exercises, and I think that I **fully understand** them\n",
    "* Gen-AI tools are used and **only** used to correct grammar mistakes\n",
    "* I explained my code within the code blocks because I'm more familiar with this way\n",
    "* p.s. Formatting markdown is cool! Most times, I do coding for myself, so I just make simple explanations without any formatting"
   ]
  },
  {
   "cell_type": "markdown",
   "id": "1625aee5-2d83-436e-865b-b2ab6236c2a4",
   "metadata": {},
   "source": [
    "<hr>"
   ]
  },
  {
   "cell_type": "markdown",
   "id": "175a82b3-755f-4a24-b69c-be6e00d6fccb",
   "metadata": {},
   "source": [
    "## 2.5 Circle Area, Diameter and Circumference"
   ]
  },
  {
   "cell_type": "code",
   "execution_count": 1,
   "id": "a1a955c5-586f-49a2-91bb-0491bcec1af9",
   "metadata": {},
   "outputs": [
    {
     "name": "stdout",
     "output_type": "stream",
     "text": [
      "diameter = 4 \n",
      "circumference = 12.56636 \n",
      "area = 12.56636\n"
     ]
    }
   ],
   "source": [
    "#2.5 Circle Area, Diameter and Circumference\n",
    "\"\"\" For a circle of radius 2, display the diameter, circumference and area.\"\"\"\n",
    "\n",
    "# define pi\n",
    "pi = 3.14159\n",
    "\n",
    "# assign a value to the radius r\n",
    "r = 2\n",
    "\n",
    "# calculate the diameter, circumference and area\n",
    "diameter = 2 * r\n",
    "circumference = 2 * pi * r\n",
    "area = pi * r ** 2\n",
    "\n",
    "#display the result\n",
    "print('diameter =', diameter, '\\ncircumference =', circumference, '\\narea =', area)"
   ]
  },
  {
   "cell_type": "markdown",
   "id": "82a1501d-45bb-424b-9d64-716a6047ffd5",
   "metadata": {},
   "source": [
    "<hr>"
   ]
  },
  {
   "cell_type": "markdown",
   "id": "17432238-6601-496d-9379-7434f6880b27",
   "metadata": {},
   "source": [
    "## 2.6 Odd or Even"
   ]
  },
  {
   "cell_type": "code",
   "execution_count": 2,
   "id": "b872bd28-a292-4410-8479-a620ffd9516a",
   "metadata": {},
   "outputs": [
    {
     "name": "stdout",
     "output_type": "stream",
     "text": [
      "Enter an integer and I will tell you whether it is odd or even.\n"
     ]
    },
    {
     "name": "stdin",
     "output_type": "stream",
     "text": [
      "Enter an integer:  1\n"
     ]
    },
    {
     "name": "stdout",
     "output_type": "stream",
     "text": [
      "1 is odd\n"
     ]
    }
   ],
   "source": [
    "#2.6 Odd or Even\n",
    "\"\"\" Use statements to determine whether an integer is odd or even.\"\"\"\n",
    "\n",
    "print('Enter an integer and I will tell you', \n",
    "      'whether it is odd or even.')\n",
    "\n",
    "# read the integer\n",
    "number = int(input('Enter an integer: '))\n",
    "\n",
    "# determine whether it is odd or even\n",
    "if number % 2 == 0:\n",
    "    print(number, 'is even')\n",
    "if number % 2 == 1:\n",
    "    print(number, 'is odd')"
   ]
  },
  {
   "cell_type": "markdown",
   "id": "4f440d8b-a279-487c-9993-7ef44b89bcd0",
   "metadata": {},
   "source": [
    "<hr>"
   ]
  },
  {
   "cell_type": "markdown",
   "id": "fd142f71-9419-4df2-9f6c-cb548697fa63",
   "metadata": {},
   "source": [
    "## 2.12 7% Investment Return"
   ]
  },
  {
   "cell_type": "code",
   "execution_count": 3,
   "id": "8f843065-b1b7-43af-a8cc-e4f536b57099",
   "metadata": {},
   "outputs": [
    {
     "name": "stdout",
     "output_type": "stream",
     "text": [
      "You will have $ 1967.1513572895665 after 10 years \n",
      "You will have $ 3869.6844624861833 after 20 years \n",
      "You will have $ 7612.255042662042 after 30 years\n"
     ]
    }
   ],
   "source": [
    "#2.12 7% Investment Return\n",
    "\"\"\" Assuming that you begin with $1000 and leave your money invested, \n",
    "calculate and display how much money you’ll have after 10, 20 and 30 years.\"\"\"\n",
    "\n",
    "# define the original amount invested\n",
    "p = 1000\n",
    "\n",
    "# define the annual rate of return\n",
    "r = 0.07\n",
    "\n",
    "# define the number of years\n",
    "n1 = 10\n",
    "n2 = 20\n",
    "n3 = 30\n",
    "\n",
    "#calculate the amount on deposit\n",
    "a1 = p * (1 + r) ** n1\n",
    "a2 = p * (1 + r) ** n2\n",
    "a3 = p * (1 + r) ** n3\n",
    "\n",
    "#display the result\n",
    "print('You will have $', a1, 'after', n1, 'years',\n",
    "     '\\nYou will have $', a2, 'after', n2, 'years', \n",
    "     '\\nYou will have $', a3, 'after', n3, 'years',)"
   ]
  },
  {
   "cell_type": "markdown",
   "id": "f50585c8-a9ef-4692-9f99-471b36e7f4de",
   "metadata": {},
   "source": [
    "<hr>"
   ]
  },
  {
   "cell_type": "markdown",
   "id": "c8ebd4f9-6477-45a5-bc3d-687d864210e9",
   "metadata": {},
   "source": [
    "## 2.13 How Big Can Python Integers Be?"
   ]
  },
  {
   "cell_type": "code",
   "execution_count": 4,
   "id": "45c8e49a-989b-4b30-a245-2eae204fbd1f",
   "metadata": {},
   "outputs": [
    {
     "name": "stdout",
     "output_type": "stream",
     "text": [
      "10000000000\n",
      "10000000000000000000000000000000000000000000000000000000000000000000000000000000000000000000000000000\n",
      "10000000000000000000000000000000000000000000000000000000000000000000000000000000000000000000000000000000000000000000000000000000000000000000000000000000000000000000000000000000000000000000000000000000000000000000000000000000000000000000000000000000000000000000000000000000000000000000000000000000000000000000000000000000000000000000000000000000000000000000000000000000000000000000000000000000000000000000000000000000000000000000000000000000000000000000000000000000000000000000000000000000000000000000000000000000000000000000000000000000000000000000000000000000000000000000000000000000000000000000000000000000000000000000000000000000000000000000000000000000000000000000000000000000000000000000000000000000000000000000000000000000000000000000000000000000000000000000000000000000000000000000000000000000000000000000000000000000000000000000000000000000000000000000000000000000000000000000000000000000000000000000000000000000000000000000000000000000000000000000000000000000000000000000000000000000000000000\n"
     ]
    }
   ],
   "source": [
    "# 2.13 How Big Can Python Integers Be?\n",
    "\"\"\" Use the ** operator to raise 10 to the powers 10, 100 and 1000 to show the result.\"\"\"\n",
    "\n",
    "# define the first large integer\n",
    "power10 = 10 ** 10\n",
    "\n",
    "# define the second large integer\n",
    "power100 = 10 ** 100\n",
    "\n",
    "# define the third large integer\n",
    "power1000 = 10 ** 1000\n",
    "\n",
    "#display the result\n",
    "print(power10)\n",
    "print(power100)\n",
    "print(power1000)"
   ]
  },
  {
   "cell_type": "markdown",
   "id": "5cceac5b-02c9-4189-8a45-f7785d107955",
   "metadata": {},
   "source": [
    "### Thoughts on the question\n",
    "* All three large integers are well displayed\n",
    "* Python integers are different from C integers; we can observe that no overflow is shown even though the number is huge\n",
    "* It might relate to the data storage methods this coding language uses\n",
    "* **Due to the observations above, I think that Python integers could reach infinity**"
   ]
  }
 ],
 "metadata": {
  "kernelspec": {
   "display_name": "Python 3 (ipykernel)",
   "language": "python",
   "name": "python3"
  },
  "language_info": {
   "codemirror_mode": {
    "name": "ipython",
    "version": 3
   },
   "file_extension": ".py",
   "mimetype": "text/x-python",
   "name": "python",
   "nbconvert_exporter": "python",
   "pygments_lexer": "ipython3",
   "version": "3.13.5"
  }
 },
 "nbformat": 4,
 "nbformat_minor": 5
}
